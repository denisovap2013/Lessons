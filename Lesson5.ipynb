{
 "cells": [
  {
   "cell_type": "markdown",
   "metadata": {
    "slideshow": {
     "slide_type": "slide"
    }
   },
   "source": [
    "# Визуальный анализ данных"
   ]
  },
  {
   "cell_type": "markdown",
   "metadata": {
    "slideshow": {
     "slide_type": "slide"
    }
   },
   "source": [
    "# matplotlib"
   ]
  },
  {
   "cell_type": "code",
   "execution_count": null,
   "metadata": {},
   "outputs": [],
   "source": [
    "import warnings\n",
    "warnings.filterwarnings('ignore')"
   ]
  },
  {
   "cell_type": "code",
   "execution_count": null,
   "metadata": {},
   "outputs": [],
   "source": [
    "import matplotlib.pyplot as plt\n",
    "import numpy as np\n",
    "\n",
    "%matplotlib inline"
   ]
  },
  {
   "cell_type": "code",
   "execution_count": null,
   "metadata": {},
   "outputs": [],
   "source": [
    "np.random.seed(18182)\n",
    "xs = np.arange(10)\n",
    "ys1 = np.random.randint(10, size=10)\n",
    "ys2 = np.random.randint(10, size=10)"
   ]
  },
  {
   "cell_type": "code",
   "execution_count": null,
   "metadata": {
    "slideshow": {
     "slide_type": "subslide"
    }
   },
   "outputs": [],
   "source": [
    "# Рисовании линии\n",
    "plt.plot(xs, ys1)\n",
    "# Рисовании точек\n",
    "plt.scatter(xs, ys2,color='red')\n",
    "plt.show()"
   ]
  },
  {
   "cell_type": "code",
   "execution_count": null,
   "metadata": {
    "slideshow": {
     "slide_type": "subslide"
    }
   },
   "outputs": [],
   "source": [
    "# Столбцы\n",
    "plt.bar(xs, ys1)\n",
    "plt.show()\n",
    "\n",
    "plt.bar(xs, ys1)\n",
    "plt.bar(xs, ys2, bottom=ys1)\n",
    "plt.show()\n",
    "\n",
    "# Задание ширины для столбцов (для всех сразу или для каждого по отдельности)\n",
    "np.random.seed(18182)\n",
    "plt.bar(xs, ys1, width=np.random.uniform(0.1, 0.8, xs.size))\n",
    "plt.show()"
   ]
  },
  {
   "cell_type": "code",
   "execution_count": null,
   "metadata": {
    "slideshow": {
     "slide_type": "subslide"
    }
   },
   "outputs": [],
   "source": [
    "# Гистограмма\n",
    "np.random.seed(18182)\n",
    "vals = np.random.rand(1000)\n",
    "plt.hist(vals, bins=100)\n",
    "plt.show()"
   ]
  },
  {
   "cell_type": "markdown",
   "metadata": {
    "slideshow": {
     "slide_type": "slide"
    }
   },
   "source": [
    "# Работа с графиками"
   ]
  },
  {
   "cell_type": "code",
   "execution_count": null,
   "metadata": {},
   "outputs": [],
   "source": [
    "plt.plot(xs, ys1)\n",
    "# Подписи осей\n",
    "plt.xlabel('Время')\n",
    "plt.ylabel('Значение')\n",
    "# Заголовок\n",
    "plt.title('График №1')\n",
    "#  Добавление сетки координат\n",
    "plt.grid()\n",
    "plt.show()"
   ]
  },
  {
   "cell_type": "code",
   "execution_count": null,
   "metadata": {
    "slideshow": {
     "slide_type": "subslide"
    }
   },
   "outputs": [],
   "source": [
    "# Значения\n",
    "xs_new = np.char.add(xs.astype(str), ' сек')\n",
    "\n",
    "plt.plot(xs, ys1)\n",
    "plt.xlabel('Время')\n",
    "plt.xticks(xs, xs_new)\n",
    "plt.show()"
   ]
  },
  {
   "cell_type": "code",
   "execution_count": null,
   "metadata": {
    "slideshow": {
     "slide_type": "subslide"
    }
   },
   "outputs": [],
   "source": [
    "# Размеры графика (в дюймах)\n",
    "plt.figure(figsize=(10, 4))\n",
    "plt.plot(xs, ys1)\n",
    "plt.xlabel('Время')\n",
    "plt.show()"
   ]
  },
  {
   "cell_type": "code",
   "execution_count": null,
   "metadata": {
    "slideshow": {
     "slide_type": "subslide"
    }
   },
   "outputs": [],
   "source": [
    "# Масштаб осей\n",
    "plt.hist(vals, bins=100)\n",
    "plt.yscale('symlog')\n",
    "plt.show()"
   ]
  },
  {
   "cell_type": "code",
   "execution_count": null,
   "metadata": {
    "slideshow": {
     "slide_type": "subslide"
    }
   },
   "outputs": [],
   "source": [
    "# Легенда\n",
    "plt.bar(xs, ys1, label='Данные 1')\n",
    "plt.bar(xs, ys2, bottom=ys1, label='Данные 2')\n",
    "plt.legend()\n",
    "plt.show()"
   ]
  },
  {
   "cell_type": "markdown",
   "metadata": {
    "slideshow": {
     "slide_type": "slide"
    }
   },
   "source": [
    "# Объединение графиков"
   ]
  },
  {
   "cell_type": "code",
   "execution_count": null,
   "metadata": {},
   "outputs": [],
   "source": [
    "plt.figure(figsize=(10, 4))\n",
    "plt.subplot(1, 2, 1)\n",
    "plt.plot(xs, ys1)\n",
    "plt.xlabel('Время')\n",
    "plt.title('График 1')\n",
    "\n",
    "plt.subplot(1, 2, 2)\n",
    "plt.plot(xs, ys2)\n",
    "plt.xlabel('Время')\n",
    "plt.title('График 2')\n",
    "\n",
    "plt.show()"
   ]
  },
  {
   "cell_type": "code",
   "execution_count": null,
   "metadata": {
    "slideshow": {
     "slide_type": "subslide"
    }
   },
   "outputs": [],
   "source": [
    "plt.figure(figsize=(10, 8))\n",
    "\n",
    "plt.subplot(2, 2, 1)\n",
    "plt.plot(xs, ys1)\n",
    "plt.title('График 1')\n",
    "\n",
    "plt.subplot(2, 2, 2)\n",
    "plt.plot(xs, ys2)\n",
    "plt.title('График 2')\n",
    "\n",
    "plt.subplot(2, 2, 3)\n",
    "plt.scatter(xs, ys1)\n",
    "plt.title('График 3')\n",
    "\n",
    "plt.subplot(2, 2, 4)\n",
    "plt.scatter(xs, ys2)\n",
    "plt.title('График 4')\n",
    "\n",
    "# Форматирование расположения графиков. Увеличение вертикального расстояния\n",
    "plt.subplots_adjust(hspace=0.3)\n",
    "\n",
    "plt.show()"
   ]
  },
  {
   "cell_type": "markdown",
   "metadata": {
    "slideshow": {
     "slide_type": "slide"
    }
   },
   "source": [
    "# Визуализация в pandas"
   ]
  },
  {
   "cell_type": "code",
   "execution_count": null,
   "metadata": {},
   "outputs": [],
   "source": [
    "import pandas as pd\n",
    "df = pd.read_csv('data/wells_info.csv')\n",
    "df.head()"
   ]
  },
  {
   "cell_type": "code",
   "execution_count": null,
   "metadata": {
    "slideshow": {
     "slide_type": "subslide"
    }
   },
   "outputs": [],
   "source": [
    "df.plot('BottomHoleLatitude', 'BottomHoleLongitude', kind='scatter')\n",
    "plt.show()"
   ]
  },
  {
   "cell_type": "code",
   "execution_count": null,
   "metadata": {
    "slideshow": {
     "slide_type": "subslide"
    }
   },
   "outputs": [],
   "source": [
    "df.drop('API', axis=1).boxplot()\n",
    "plt.xticks(rotation=-25)\n",
    "plt.show()"
   ]
  },
  {
   "cell_type": "code",
   "execution_count": null,
   "metadata": {
    "slideshow": {
     "slide_type": "subslide"
    }
   },
   "outputs": [],
   "source": [
    "df['CompletionDate'] = pd.to_datetime(df['CompletionDate'])\n",
    "df['CompletionDate'].hist()\n",
    "plt.xticks(rotation=-25)\n",
    "plt.show()"
   ]
  },
  {
   "cell_type": "code",
   "execution_count": null,
   "metadata": {
    "slideshow": {
     "slide_type": "subslide"
    }
   },
   "outputs": [],
   "source": [
    "df['Month'] = df['CompletionDate'].dt.month\n",
    "df.groupby('Month').mean()[['LonWGS84', 'BottomHoleLongitude']].plot(alpha=0.5)\n",
    "plt.show()"
   ]
  },
  {
   "cell_type": "markdown",
   "metadata": {
    "slideshow": {
     "slide_type": "subslide"
    }
   },
   "source": [
    "### Отображение с группировкой"
   ]
  },
  {
   "cell_type": "code",
   "execution_count": null,
   "metadata": {},
   "outputs": [],
   "source": [
    "df.columns"
   ]
  },
  {
   "cell_type": "code",
   "execution_count": null,
   "metadata": {},
   "outputs": [],
   "source": [
    "# Гистограмма по группам\n",
    "df.hist('LatWGS84', by='formation', figsize=(8, 8))\n",
    "plt.subplots_adjust(hspace=0.9)\n",
    "plt.show()"
   ]
  },
  {
   "cell_type": "code",
   "execution_count": null,
   "metadata": {
    "slideshow": {
     "slide_type": "subslide"
    }
   },
   "outputs": [],
   "source": [
    "# Boxplot по группам\n",
    "df.boxplot('LatWGS84', by='formation', figsize=(8, 8))\n",
    "plt.subplots_adjust(hspace=0.9)\n",
    "plt.xticks(rotation=-25, ha='left')\n",
    "plt.show()"
   ]
  },
  {
   "cell_type": "markdown",
   "metadata": {
    "slideshow": {
     "slide_type": "slide"
    }
   },
   "source": [
    "# seaborn"
   ]
  },
  {
   "cell_type": "code",
   "execution_count": null,
   "metadata": {},
   "outputs": [],
   "source": [
    "import seaborn as sns\n",
    "\n",
    "cols = ['LonWGS84', 'LatWGS84', 'BottomHoleLongitude', 'BottomHoleLatitude']\n",
    "sns.pairplot(df[cols])\n",
    "plt.show()"
   ]
  },
  {
   "cell_type": "code",
   "execution_count": null,
   "metadata": {
    "slideshow": {
     "slide_type": "subslide"
    }
   },
   "outputs": [],
   "source": [
    "sns.distplot(df['BottomHoleLongitude'])\n",
    "plt.show()"
   ]
  },
  {
   "cell_type": "code",
   "execution_count": null,
   "metadata": {
    "slideshow": {
     "slide_type": "subslide"
    }
   },
   "outputs": [],
   "source": [
    "sns.jointplot(df['LonWGS84'], df['LatWGS84'])\n",
    "plt.show()"
   ]
  },
  {
   "cell_type": "code",
   "execution_count": null,
   "metadata": {
    "slideshow": {
     "slide_type": "subslide"
    }
   },
   "outputs": [],
   "source": [
    "# Матрица корреляции\n",
    "corr_matrix = df.corr()\n",
    "sns.heatmap(corr_matrix)"
   ]
  },
  {
   "cell_type": "markdown",
   "metadata": {
    "slideshow": {
     "slide_type": "slide"
    }
   },
   "source": [
    "# Задания\n",
    "\n",
    "1. Для случайных 10 скважин выведите столбцевые графики их добычи по времени. Добавить подписи осей, легенду, сетку координат.  \n",
    "2. Выделите цветом те месяцы добычи, когда производство в сравнении с предыдущим месяцем увеличилось более чем на 10% (production.csv).  \n",
    "3. Добавьте линейный график скользящего среднего с окном 3 и 5 (можно использовать метод rolling у класса Series).\n",
    "4. Исследовать зависимость добычи за первый год от числовых величин (pairplot, матрица корреляции) и от категориальных (boxplot по каждой величине на одном графике).  "
   ]
  }
 ],
 "metadata": {
  "celltoolbar": "Slideshow",
  "kernelspec": {
   "display_name": "Python 3",
   "language": "python",
   "name": "python3"
  },
  "language_info": {
   "codemirror_mode": {
    "name": "ipython",
    "version": 3
   },
   "file_extension": ".py",
   "mimetype": "text/x-python",
   "name": "python",
   "nbconvert_exporter": "python",
   "pygments_lexer": "ipython3",
   "version": "3.6.10"
  }
 },
 "nbformat": 4,
 "nbformat_minor": 4
}
