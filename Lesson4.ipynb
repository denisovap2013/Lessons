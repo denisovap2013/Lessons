{
 "cells": [
  {
   "cell_type": "markdown",
   "metadata": {
    "slideshow": {
     "slide_type": "slide"
    }
   },
   "source": [
    "# Введение в pandas"
   ]
  },
  {
   "cell_type": "markdown",
   "metadata": {
    "slideshow": {
     "slide_type": "slide"
    }
   },
   "source": [
    "# Создание и структура Series и DataFrame"
   ]
  },
  {
   "cell_type": "code",
   "execution_count": null,
   "metadata": {},
   "outputs": [],
   "source": [
    "import numpy as np\n",
    "import pandas as pd"
   ]
  },
  {
   "cell_type": "code",
   "execution_count": null,
   "metadata": {},
   "outputs": [],
   "source": [
    "np.random.seed(18182)\n",
    "data = np.random.randint(10, size=(6, 4))\n",
    "# Дата Фрейм\n",
    "df = pd.DataFrame(data, columns=['a', 'b', 'c', 'd'])\n",
    "df"
   ]
  },
  {
   "cell_type": "code",
   "execution_count": null,
   "metadata": {
    "slideshow": {
     "slide_type": "subslide"
    }
   },
   "outputs": [],
   "source": [
    "# Серия\n",
    "np.random.seed(18182)\n",
    "data = np.random.randint(10, size=6)\n",
    "sr = pd.Series(data)\n",
    "sr"
   ]
  },
  {
   "cell_type": "code",
   "execution_count": null,
   "metadata": {},
   "outputs": [],
   "source": [
    "print('Форма DataFrame: ', df.shape)\n",
    "print('Размер DataFrame: ', df.size)"
   ]
  },
  {
   "cell_type": "markdown",
   "metadata": {
    "slideshow": {
     "slide_type": "subslide"
    }
   },
   "source": [
    "### Сохранение и загрузка\n",
    "Для сохранения DataFrame обычно используется формат csv  (Comma-Separated Values — значения, разделённые запятыми), который представляет собой текстовый файл, в котором данные записаны построчно, а значения разных столбцов разделены запятыми"
   ]
  },
  {
   "cell_type": "code",
   "execution_count": null,
   "metadata": {},
   "outputs": [],
   "source": [
    "df.to_csv('data/example.csv')\n",
    "df2 = pd.read_csv('data/example.csv', index_col=0)\n",
    "# df2 = pd.read_csv('data/example.csv', index_col=0, header=0)\n",
    "df2"
   ]
  },
  {
   "cell_type": "markdown",
   "metadata": {
    "slideshow": {
     "slide_type": "subslide"
    }
   },
   "source": [
    "### Компоненты объектов"
   ]
  },
  {
   "cell_type": "code",
   "execution_count": null,
   "metadata": {},
   "outputs": [],
   "source": [
    "# Компоненты DataFrame\n",
    "print('Названия колонок:', df.columns)\n",
    "print('Названия индексов:', df.index)\n",
    "df2 = df.copy()\n",
    "df2.index = np.arange(df2.shape[0])\n",
    "print('Названия индексов (другой вариант):', df2.index)\n",
    "print('Данные:', df.values)"
   ]
  },
  {
   "cell_type": "code",
   "execution_count": null,
   "metadata": {
    "slideshow": {
     "slide_type": "subslide"
    }
   },
   "outputs": [],
   "source": [
    "# Столбцы и строки DataFrame представляют собой Series.\n",
    "sr = df['b']\n",
    "sr"
   ]
  },
  {
   "cell_type": "code",
   "execution_count": null,
   "metadata": {
    "slideshow": {
     "slide_type": "-"
    }
   },
   "outputs": [],
   "source": [
    "# Компоненты Series\n",
    "print('Названия индексов:', sr.index)\n",
    "print('Данные:', sr.values)\n",
    "print('Имя:', sr.name)"
   ]
  },
  {
   "cell_type": "markdown",
   "metadata": {
    "slideshow": {
     "slide_type": "slide"
    }
   },
   "source": [
    "# Индексация"
   ]
  },
  {
   "cell_type": "code",
   "execution_count": null,
   "metadata": {},
   "outputs": [],
   "source": [
    "# Получение столбца\n",
    "df['a']"
   ]
  },
  {
   "cell_type": "code",
   "execution_count": null,
   "metadata": {},
   "outputs": [],
   "source": [
    "# Несколько столбцов\n",
    "df[['a', 'c']]  # Перечисление именно через list !!!"
   ]
  },
  {
   "cell_type": "code",
   "execution_count": null,
   "metadata": {
    "slideshow": {
     "slide_type": "subslide"
    }
   },
   "outputs": [],
   "source": [
    "df2 = df.copy()\n",
    "df2.index = pd.Index(list('qwerty'))\n",
    "display(df2)\n",
    "\n",
    "# Доступ по меткам / лейблам (строка, столбец) (не кореллирует с целочисленным индексом)\n",
    "print('На месте (1, а):', df2.loc['w', 'a'])\n",
    "\n",
    "# Доступ по позиции (только целочисленный индекс)\n",
    "print('На позиции (1, 0):', df2.iloc[1, 0])"
   ]
  },
  {
   "cell_type": "code",
   "execution_count": null,
   "metadata": {},
   "outputs": [],
   "source": [
    "display(df)\n",
    "\n",
    "# Доступ по меткам / лейблам (строка, столбец) (не кореллирует с целочисленным индексом)\n",
    "print('На месте (1, а):', df.loc[1, 'a'])\n",
    "\n",
    "# Доступ по позиции (только целочисленный индекс)\n",
    "print('На позиции (1, 0):', df.iloc[1, 0])"
   ]
  },
  {
   "cell_type": "code",
   "execution_count": null,
   "metadata": {},
   "outputs": [],
   "source": [
    "# Срез строк\n",
    "display(df[-2:])\n",
    "# Срез столбцов\n",
    "display(df.loc[:, 'b':'d'])  # включительно"
   ]
  },
  {
   "cell_type": "markdown",
   "metadata": {
    "slideshow": {
     "slide_type": "slide"
    }
   },
   "source": [
    "# Получение информации"
   ]
  },
  {
   "cell_type": "code",
   "execution_count": null,
   "metadata": {},
   "outputs": [],
   "source": [
    "df = pd.read_csv('data/wells_info.csv')\n",
    "print('Форма:', df.shape)\n",
    "# Вывод первых строк\n",
    "display(df.head())"
   ]
  },
  {
   "cell_type": "code",
   "execution_count": null,
   "metadata": {
    "slideshow": {
     "slide_type": "subslide"
    }
   },
   "outputs": [],
   "source": [
    "# Типы данных\n",
    "df.dtypes"
   ]
  },
  {
   "cell_type": "code",
   "execution_count": null,
   "metadata": {
    "slideshow": {
     "slide_type": "subslide"
    }
   },
   "outputs": [],
   "source": [
    "# Метод info показывает общую информацию по датафрейму и всем признакам\n",
    "df.info()"
   ]
  },
  {
   "cell_type": "code",
   "execution_count": null,
   "metadata": {
    "slideshow": {
     "slide_type": "subslide"
    }
   },
   "outputs": [],
   "source": [
    "# Метод describe показывает основные статистические характеристики данных по каждому числовому признаку: \n",
    "# число непропущенных значений, среднее, стандартное отклонение, диапазон, медиану, 0.25 и 0.75 квартили\n",
    "df.describe()"
   ]
  },
  {
   "cell_type": "code",
   "execution_count": null,
   "metadata": {},
   "outputs": [],
   "source": [
    "# Метод unique выводит уникальные значения\n",
    "df['StateName'].unique()"
   ]
  },
  {
   "cell_type": "code",
   "execution_count": null,
   "metadata": {},
   "outputs": [],
   "source": [
    "# Метод value_counts подсчитывает количество значений\n",
    "df['StateName'].value_counts()"
   ]
  },
  {
   "cell_type": "markdown",
   "metadata": {
    "slideshow": {
     "slide_type": "slide"
    }
   },
   "source": [
    "# Фильтрация и сортировка"
   ]
  },
  {
   "cell_type": "code",
   "execution_count": null,
   "metadata": {},
   "outputs": [],
   "source": [
    "df_ = df[df['CountyName'] == 'WELD']\n",
    "df_.head()"
   ]
  },
  {
   "cell_type": "code",
   "execution_count": null,
   "metadata": {
    "slideshow": {
     "slide_type": "subslide"
    }
   },
   "outputs": [],
   "source": [
    "df[(df['CountyName'] == 'WELD') & (df['BottomHoleLatitude'] > 40.4)]"
   ]
  },
  {
   "cell_type": "markdown",
   "metadata": {
    "slideshow": {
     "slide_type": "subslide"
    }
   },
   "source": [
    "### Сортировка"
   ]
  },
  {
   "cell_type": "code",
   "execution_count": null,
   "metadata": {},
   "outputs": [],
   "source": [
    "# Сортировка по значению\n",
    "df_ = df.sort_values('LatWGS84')\n",
    "df_.head()"
   ]
  },
  {
   "cell_type": "code",
   "execution_count": null,
   "metadata": {
    "slideshow": {
     "slide_type": "subslide"
    }
   },
   "outputs": [],
   "source": [
    "# Сортировка строк по нескольким значениям\n",
    "df_ = df.sort_values(['PermitDate', 'LatWGS84'])\n",
    "df_.head()"
   ]
  },
  {
   "cell_type": "code",
   "execution_count": null,
   "metadata": {
    "slideshow": {
     "slide_type": "subslide"
    }
   },
   "outputs": [],
   "source": [
    "# Cортировка по именам колонок\n",
    "df_ = df.sort_index(axis=1)\n",
    "df_.head()"
   ]
  },
  {
   "cell_type": "code",
   "execution_count": null,
   "metadata": {},
   "outputs": [],
   "source": [
    "df2 = pd.read_csv('data/example.csv', index_col=0)\n",
    "df2.index = pd.Index(list('qwerty'))\n",
    "display(df2)\n",
    "\n",
    "# Сортировка по именам строк (по индексу (Index))\n",
    "df2 = df2.sort_index(axis=0)\n",
    "df2"
   ]
  },
  {
   "cell_type": "markdown",
   "metadata": {
    "slideshow": {
     "slide_type": "slide"
    }
   },
   "source": [
    "# Работа с индексом"
   ]
  },
  {
   "cell_type": "code",
   "execution_count": null,
   "metadata": {},
   "outputs": [],
   "source": [
    "# Выбор колонки для индексации\n",
    "df_2 = df.set_index('API')\n",
    "df_2.head()"
   ]
  },
  {
   "cell_type": "code",
   "execution_count": null,
   "metadata": {
    "slideshow": {
     "slide_type": "subslide"
    }
   },
   "outputs": [],
   "source": [
    "# Сброс индекса\n",
    "df_2 = df_2.reset_index()\n",
    "df_2.head()"
   ]
  },
  {
   "cell_type": "markdown",
   "metadata": {
    "slideshow": {
     "slide_type": "subslide"
    }
   },
   "source": [
    "### Multiindex"
   ]
  },
  {
   "cell_type": "code",
   "execution_count": null,
   "metadata": {},
   "outputs": [],
   "source": [
    "df_2 = df.set_index(['StateName', 'API'])\n",
    "df_2.head()"
   ]
  },
  {
   "cell_type": "code",
   "execution_count": null,
   "metadata": {},
   "outputs": [],
   "source": [
    "# Индексация по первому индексу\n",
    "df_2.loc['COLORADO'].shape"
   ]
  },
  {
   "cell_type": "code",
   "execution_count": null,
   "metadata": {
    "slideshow": {
     "slide_type": "subslide"
    }
   },
   "outputs": [],
   "source": [
    "# Получение строки\n",
    "df_2.loc[('COLORADO', 5123377130000)]"
   ]
  },
  {
   "cell_type": "code",
   "execution_count": null,
   "metadata": {},
   "outputs": [],
   "source": [
    "# Получение значение в ячейке\n",
    "df_2.loc[('COLORADO', 5123377130000), 'BasinName']  # При использовании Multiindex для указания конкретной строки используется tuple"
   ]
  },
  {
   "cell_type": "markdown",
   "metadata": {
    "slideshow": {
     "slide_type": "slide"
    }
   },
   "source": [
    "# Некоторые возможности pandas по работе с данными"
   ]
  },
  {
   "cell_type": "code",
   "execution_count": null,
   "metadata": {},
   "outputs": [],
   "source": [
    "# Перевод времени из строк в формат np.datetime64\n",
    "df['CompletionDate'] = pd.to_datetime(df['CompletionDate'])\n",
    "df['FirstProductionDate'] = pd.to_datetime(df['FirstProductionDate'])\n",
    "df['PermitDate'] = pd.to_datetime(df['PermitDate'])\n",
    "df['SpudDate'] = pd.to_datetime(df['SpudDate'])\n",
    "\n",
    "df.dtypes"
   ]
  },
  {
   "cell_type": "code",
   "execution_count": null,
   "metadata": {
    "slideshow": {
     "slide_type": "subslide"
    }
   },
   "outputs": [],
   "source": [
    "# Построчное применение функции\n",
    "def fun(row):\n",
    "    if row['formation'] == 'NIOBRARA':\n",
    "        return row['BasinName']\n",
    "    else:\n",
    "        return 'OTHER'\n",
    "\n",
    "\n",
    "app_res = df.apply(fun, axis=1)  # при axis=0 функция будет применена к каждой колонке\n",
    "app_res[6:11]"
   ]
  },
  {
   "cell_type": "code",
   "execution_count": null,
   "metadata": {},
   "outputs": [],
   "source": [
    "# Применение функции к каждому элементу столбца\n",
    "map_res = df['formation'].map(lambda form: 'NIOBRARA' if form == 'NIOBRARA' else 'OTHER')\n",
    "# df['formation'] выберает ряд\n",
    "# метод класса Series \".map\" применяет переданную функцию ко всем элементам\n",
    "# Аналогично метод .map можно вызывать от строк DataFrame\n",
    "map_res[6:11]"
   ]
  },
  {
   "cell_type": "code",
   "execution_count": null,
   "metadata": {
    "slideshow": {
     "slide_type": "subslide"
    }
   },
   "outputs": [],
   "source": [
    "# Удаление колонок\n",
    "df.drop('formation', axis=1).columns"
   ]
  },
  {
   "cell_type": "code",
   "execution_count": null,
   "metadata": {},
   "outputs": [],
   "source": [
    "df.drop(['PermitDate', 'SpudDate', 'CompletionDate', 'FirstProductionDate'], axis=1).columns"
   ]
  },
  {
   "cell_type": "markdown",
   "metadata": {
    "slideshow": {
     "slide_type": "slide"
    }
   },
   "source": [
    "# Работа со строками"
   ]
  },
  {
   "cell_type": "code",
   "execution_count": null,
   "metadata": {},
   "outputs": [],
   "source": [
    "# Операции со строками в pandas находятся в наборе методов .str для Series\n",
    "df['operatorNameIHS'].head()"
   ]
  },
  {
   "cell_type": "code",
   "execution_count": null,
   "metadata": {},
   "outputs": [],
   "source": [
    "# Обращаться к колонкам можно через точку, если имя нужной колонки не содержит пробелов и других специальных символов\n",
    "df.operatorNameIHS.str.capitalize().head()"
   ]
  },
  {
   "cell_type": "code",
   "execution_count": null,
   "metadata": {},
   "outputs": [],
   "source": [
    "df.operatorNameIHS.str.endswith('LLC').head()"
   ]
  },
  {
   "cell_type": "code",
   "execution_count": null,
   "metadata": {
    "slideshow": {
     "slide_type": "subslide"
    }
   },
   "outputs": [],
   "source": [
    "words = df.operatorNameIHS.str.split(' ')\n",
    "words.head()"
   ]
  },
  {
   "cell_type": "code",
   "execution_count": null,
   "metadata": {},
   "outputs": [],
   "source": [
    "words.str[-3:].head()"
   ]
  },
  {
   "cell_type": "code",
   "execution_count": null,
   "metadata": {},
   "outputs": [],
   "source": [
    "words.str.join('_').head()"
   ]
  },
  {
   "cell_type": "markdown",
   "metadata": {
    "slideshow": {
     "slide_type": "slide"
    }
   },
   "source": [
    "# Группировка"
   ]
  },
  {
   "cell_type": "code",
   "execution_count": null,
   "metadata": {},
   "outputs": [],
   "source": [
    "df.groupby('formation').mean()"
   ]
  },
  {
   "cell_type": "code",
   "execution_count": null,
   "metadata": {
    "slideshow": {
     "slide_type": "subslide"
    }
   },
   "outputs": [],
   "source": [
    "df.groupby('formation').sum()"
   ]
  },
  {
   "cell_type": "markdown",
   "metadata": {},
   "source": [
    "### Доп информация\n",
    "> Подробнее про методы над группами можно прочитать [здесь](https://pandas.pydata.org/docs/reference/groupby.html)."
   ]
  },
  {
   "cell_type": "markdown",
   "metadata": {
    "slideshow": {
     "slide_type": "subslide"
    }
   },
   "source": [
    "### Произвольная функция"
   ]
  },
  {
   "cell_type": "code",
   "execution_count": null,
   "metadata": {},
   "outputs": [],
   "source": [
    "# Возвращается Series (строка)\n",
    "def fun(df):\n",
    "    out = pd.Series()\n",
    "    out['MinLatitude'] = df['BottomHoleLatitude'].min()\n",
    "    out['MinLongitude'] = df['BottomHoleLongitude'].min()\n",
    "    return out\n",
    "\n",
    "res = df.groupby('formation').apply(fun)\n",
    "res"
   ]
  },
  {
   "cell_type": "code",
   "execution_count": null,
   "metadata": {
    "slideshow": {
     "slide_type": "subslide"
    }
   },
   "outputs": [],
   "source": [
    "# Возвращается DataFrame\n",
    "def fun(df):\n",
    "    df = df.copy()\n",
    "    df['MinLatitude'] = df['BottomHoleLatitude'].min()\n",
    "    df['MinLongitude'] = df['BottomHoleLongitude'].min()\n",
    "    return df\n",
    "\n",
    "# group_keys=False указывает, что в результате не надо добавлять formation как индекс\n",
    "df2 = df.groupby('formation', group_keys=False).apply(fun)\n",
    "df2.sort_index()[6:11]"
   ]
  },
  {
   "cell_type": "markdown",
   "metadata": {
    "slideshow": {
     "slide_type": "subslide"
    }
   },
   "source": [
    "### Группировка по индексу"
   ]
  },
  {
   "cell_type": "code",
   "execution_count": null,
   "metadata": {},
   "outputs": [],
   "source": [
    "df2 = df.set_index(['formation', df.index])\n",
    "df2.head()"
   ]
  },
  {
   "cell_type": "code",
   "execution_count": null,
   "metadata": {
    "slideshow": {
     "slide_type": "subslide"
    }
   },
   "outputs": [],
   "source": [
    "df2.groupby(level=0).mean()"
   ]
  },
  {
   "cell_type": "markdown",
   "metadata": {
    "slideshow": {
     "slide_type": "slide"
    }
   },
   "source": [
    "# Операции с несколькими DataFrame"
   ]
  },
  {
   "cell_type": "code",
   "execution_count": null,
   "metadata": {},
   "outputs": [],
   "source": [
    "df1, df2 = df.iloc[:4, :3], df.iloc[:4, 3:6]\n",
    "df3, df4 = df.iloc[4:8, :3], df.iloc[4:8, 3:6]\n",
    "\n",
    "display(df1.head())\n",
    "display(df2.head())\n",
    "display(df3.head())\n",
    "display(df4.head())"
   ]
  },
  {
   "cell_type": "code",
   "execution_count": null,
   "metadata": {
    "slideshow": {
     "slide_type": "subslide"
    }
   },
   "outputs": [],
   "source": [
    "# Объединение нескольких DataFrame\n",
    "pd.concat([df1, df3])"
   ]
  },
  {
   "cell_type": "code",
   "execution_count": null,
   "metadata": {
    "slideshow": {
     "slide_type": "subslide"
    }
   },
   "outputs": [],
   "source": [
    "# Объединение происходит по умолчанию по оси 0\n",
    "pd.concat([df1, df2])"
   ]
  },
  {
   "cell_type": "code",
   "execution_count": null,
   "metadata": {},
   "outputs": [],
   "source": [
    "# Для объединения по столбцам нужно указать ось 1\n",
    "pd.concat([df1, df2], axis=1)"
   ]
  },
  {
   "cell_type": "markdown",
   "metadata": {
    "slideshow": {
     "slide_type": "subslide"
    }
   },
   "source": [
    "### Метод merge\n",
    "Объединение выполняется по столбцам или индексам. При объединении столбцов в столбцах индексы DataFrame будут игнорироваться."
   ]
  },
  {
   "cell_type": "code",
   "execution_count": null,
   "metadata": {},
   "outputs": [],
   "source": [
    "df4['API'] = df3['API']\n",
    "df4 = df4.reset_index(drop=True)\n",
    "display(df3)\n",
    "display(df4)"
   ]
  },
  {
   "cell_type": "code",
   "execution_count": null,
   "metadata": {},
   "outputs": [],
   "source": [
    "df3['API']"
   ]
  },
  {
   "cell_type": "code",
   "execution_count": null,
   "metadata": {},
   "outputs": [],
   "source": [
    "df4['API']"
   ]
  },
  {
   "cell_type": "code",
   "execution_count": null,
   "metadata": {
    "slideshow": {
     "slide_type": "subslide"
    }
   },
   "outputs": [],
   "source": [
    "pd.merge(df3, df4, on='API')"
   ]
  },
  {
   "cell_type": "code",
   "execution_count": null,
   "metadata": {},
   "outputs": [],
   "source": [
    "# При совпадении колонок используются указанные суффиксы\n",
    "df5 = df3.copy()\n",
    "df5['CompletionDate'] = df2['CompletionDate']\n",
    "\n",
    "pd.merge(df5, df4, on='API', suffixes=('', '_from4'))"
   ]
  },
  {
   "cell_type": "markdown",
   "metadata": {
    "slideshow": {
     "slide_type": "slide"
    }
   },
   "source": [
    "# Работа с пустыми значениями"
   ]
  },
  {
   "cell_type": "code",
   "execution_count": null,
   "metadata": {},
   "outputs": [],
   "source": [
    "df = pd.read_csv('data/wells_info_na.csv')\n",
    "df['CompletionDate'] = pd.to_datetime(df['CompletionDate'])\n",
    "df['FirstProductionDate'] = pd.to_datetime(df['FirstProductionDate'])\n",
    "df"
   ]
  },
  {
   "cell_type": "code",
   "execution_count": null,
   "metadata": {
    "slideshow": {
     "slide_type": "subslide"
    }
   },
   "outputs": [],
   "source": [
    "# Проверка на пустоту\n",
    "df.isnull()"
   ]
  },
  {
   "cell_type": "code",
   "execution_count": null,
   "metadata": {
    "slideshow": {
     "slide_type": "-"
    }
   },
   "outputs": [],
   "source": [
    "# Отбрасывание строк с пустым значением\n",
    "df.dropna()"
   ]
  },
  {
   "cell_type": "code",
   "execution_count": null,
   "metadata": {
    "slideshow": {
     "slide_type": "subslide"
    }
   },
   "outputs": [],
   "source": [
    "# Заполнение значением\n",
    "df.fillna(0)"
   ]
  },
  {
   "cell_type": "code",
   "execution_count": null,
   "metadata": {
    "slideshow": {
     "slide_type": "subslide"
    }
   },
   "outputs": [],
   "source": [
    "# Заполнение прошлым значением\n",
    "df.fillna(method='ffill')"
   ]
  },
  {
   "cell_type": "code",
   "execution_count": null,
   "metadata": {
    "slideshow": {
     "slide_type": "subslide"
    }
   },
   "outputs": [],
   "source": [
    "# Заполнение следующим значением\n",
    "df.fillna(method='bfill')"
   ]
  },
  {
   "cell_type": "code",
   "execution_count": null,
   "metadata": {
    "slideshow": {
     "slide_type": "subslide"
    }
   },
   "outputs": [],
   "source": [
    "# Заполнение определёнными значениями (из Series)\n",
    "df.fillna(df.mean())"
   ]
  },
  {
   "cell_type": "markdown",
   "metadata": {
    "slideshow": {
     "slide_type": "slide"
    }
   },
   "source": [
    "# Сводные таблицы"
   ]
  },
  {
   "cell_type": "code",
   "execution_count": null,
   "metadata": {},
   "outputs": [],
   "source": [
    "# Таблица сопряженности\n",
    "df = pd.read_csv('data/wells_info.csv')\n",
    "pd.crosstab(df['formation'], df['BasinName'])"
   ]
  },
  {
   "cell_type": "code",
   "execution_count": null,
   "metadata": {
    "slideshow": {
     "slide_type": "subslide"
    }
   },
   "outputs": [],
   "source": [
    "# Нормализация\n",
    "pd.crosstab(df['formation'], df['BasinName'], normalize=True)"
   ]
  },
  {
   "cell_type": "code",
   "execution_count": null,
   "metadata": {
    "slideshow": {
     "slide_type": "subslide"
    }
   },
   "outputs": [],
   "source": [
    "# Cводные таблицы\n",
    "df.pivot_table(values='LatWGS84', index='formation', columns='BasinName', aggfunc='mean')"
   ]
  },
  {
   "cell_type": "code",
   "execution_count": null,
   "metadata": {
    "slideshow": {
     "slide_type": "subslide"
    }
   },
   "outputs": [],
   "source": [
    "df.pivot_table(values='LatWGS84', index='formation', columns='BasinName', aggfunc='count')"
   ]
  },
  {
   "cell_type": "code",
   "execution_count": null,
   "metadata": {
    "slideshow": {
     "slide_type": "subslide"
    }
   },
   "outputs": [],
   "source": [
    "df.pivot_table(values=['LatWGS84', 'LonWGS84'], index='formation', aggfunc='mean')"
   ]
  },
  {
   "cell_type": "code",
   "execution_count": null,
   "metadata": {},
   "outputs": [],
   "source": [
    "df.pivot_table(values='LatWGS84', index='formation', columns='BasinName', aggfunc='median')"
   ]
  },
  {
   "cell_type": "markdown",
   "metadata": {
    "slideshow": {
     "slide_type": "slide"
    }
   },
   "source": [
    "# Задания\n",
    "\n",
    "1. Создайте DataFrame с 5 столбцами и 10 строками, заполненный случайными числами от 0 до 1. По каждой строке посчитайте среднее чисел, которые больше 0.3.\n",
    "2. Посчитайте, сколько целых месяцев длилась добыча на каждой скважине в файле _wells_info.csv_.\n",
    "3. Заполните пропущенные числовые значения медианой, а остальные самым часто встречаемым значением  в файле _wells_info_na.csv_.\n",
    "4. Используя файл _production.csv_ добавьте к каждой скважине в файле _wells_info.csv_ колонку с информацией о суммарной добыче за всё время и за первые 12 месяцев."
   ]
  }
 ],
 "metadata": {
  "celltoolbar": "Slideshow",
  "kernelspec": {
   "display_name": "Python 3",
   "language": "python",
   "name": "python3"
  },
  "language_info": {
   "codemirror_mode": {
    "name": "ipython",
    "version": 3
   },
   "file_extension": ".py",
   "mimetype": "text/x-python",
   "name": "python",
   "nbconvert_exporter": "python",
   "pygments_lexer": "ipython3",
   "version": "3.6.10"
  }
 },
 "nbformat": 4,
 "nbformat_minor": 4
}
