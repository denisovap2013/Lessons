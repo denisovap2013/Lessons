{
 "cells": [
  {
   "cell_type": "markdown",
   "metadata": {
    "slideshow": {
     "slide_type": "slide"
    }
   },
   "source": [
    "# Введение в Python\n",
    "### Часть 2"
   ]
  },
  {
   "cell_type": "markdown",
   "metadata": {
    "slideshow": {
     "slide_type": "slide"
    }
   },
   "source": [
    "# Строки (str)\n",
    "\n",
    "Специальные символы:\n",
    "* \\n - новая строка\n",
    "* \\t - табуляция\n",
    "* \\r - возврат каретки\n",
    "\n",
    "Строки в тройных апострофах или кавычках позволяют записывать многострочные блоки текста."
   ]
  },
  {
   "cell_type": "code",
   "execution_count": null,
   "metadata": {},
   "outputs": [],
   "source": [
    "print(\"\"\"Этот текст\n",
    "был записан\n",
    "в нескольких строках\"\"\")"
   ]
  },
  {
   "cell_type": "markdown",
   "metadata": {
    "slideshow": {
     "slide_type": "subslide"
    }
   },
   "source": [
    "### Функции для работы со строками\n",
    "* Конкатенация"
   ]
  },
  {
   "cell_type": "code",
   "execution_count": null,
   "metadata": {},
   "outputs": [],
   "source": [
    "s1 = 'Hello, '\n",
    "s2 = 'world!'\n",
    "s3 = s1 + s2  # 'Hello world!'\n",
    "s4 = 'String' ' literals ' 'concatenation'\n",
    "s5 = (\n",
    "    'This '\n",
    "    'could be '\n",
    "    'a long string '\n",
    "    'function argument'\n",
    ")\n",
    "print(s3)\n",
    "print(s4)\n",
    "print(s5)"
   ]
  },
  {
   "cell_type": "markdown",
   "metadata": {},
   "source": [
    "* Дублирование"
   ]
  },
  {
   "cell_type": "code",
   "execution_count": null,
   "metadata": {},
   "outputs": [],
   "source": [
    "s6 = s1 * 3  # 'Hello Hello Hello '\n",
    "print(s6)"
   ]
  },
  {
   "cell_type": "markdown",
   "metadata": {},
   "source": [
    "* Длина"
   ]
  },
  {
   "cell_type": "code",
   "execution_count": null,
   "metadata": {},
   "outputs": [],
   "source": [
    "len(s1)  # 6"
   ]
  },
  {
   "cell_type": "markdown",
   "metadata": {},
   "source": [
    "### Методы строк\n",
    "* Поиск подстроки. Возвращает номер первого вхождения или -1"
   ]
  },
  {
   "cell_type": "code",
   "execution_count": null,
   "metadata": {},
   "outputs": [],
   "source": [
    "s3.find(s2)  # 6"
   ]
  },
  {
   "cell_type": "markdown",
   "metadata": {},
   "source": [
    "* Поиск подстроки. Возвращает номер последнего вхождения или -1"
   ]
  },
  {
   "cell_type": "code",
   "execution_count": null,
   "metadata": {},
   "outputs": [],
   "source": [
    "s3.rfind('o')  # 8"
   ]
  },
  {
   "cell_type": "markdown",
   "metadata": {},
   "source": [
    "* Перевод символов в верхний регистр"
   ]
  },
  {
   "cell_type": "code",
   "execution_count": null,
   "metadata": {},
   "outputs": [],
   "source": [
    "s2.upper()  # 'WORLD!'"
   ]
  },
  {
   "cell_type": "markdown",
   "metadata": {},
   "source": [
    "* Перевод символов в нижний регистр"
   ]
  },
  {
   "cell_type": "code",
   "execution_count": null,
   "metadata": {},
   "outputs": [],
   "source": [
    "s1.lower()  # 'hello, '"
   ]
  },
  {
   "cell_type": "markdown",
   "metadata": {},
   "source": [
    "* Перевести первый символ в верхний регистр"
   ]
  },
  {
   "cell_type": "code",
   "execution_count": null,
   "metadata": {},
   "outputs": [],
   "source": [
    "s2.capitalize()  # 'hello, '"
   ]
  },
  {
   "cell_type": "markdown",
   "metadata": {
    "slideshow": {
     "slide_type": "subslide"
    }
   },
   "source": [
    "* Определение начинается ли строка с подстроки\n",
    "\n",
    "```python\n",
    "s1.startswith('Hel')  # True\n",
    "```\n",
    "* Определение заканчивается строка подстрокой\n",
    "\n",
    "```python\n",
    "s1.endswith('lo ')  # True\n",
    "```\n",
    "* Разбиение строки\n",
    "\n",
    "```python\n",
    "lst = s3.split(' ')  # ['Hello', 'world!']\n",
    "```\n",
    "* Объединение строк\n",
    "\n",
    "```python\n",
    "'-'.join(lst)  # 'Hello-world!'\n",
    "```"
   ]
  },
  {
   "cell_type": "markdown",
   "metadata": {},
   "source": [
    "* Определение начинается ли строка с подстроки"
   ]
  },
  {
   "cell_type": "code",
   "execution_count": null,
   "metadata": {},
   "outputs": [],
   "source": [
    "s1.startswith('Hel')  # True"
   ]
  },
  {
   "cell_type": "markdown",
   "metadata": {},
   "source": [
    "* Определение заканчивается строка подстрокой"
   ]
  },
  {
   "cell_type": "code",
   "execution_count": null,
   "metadata": {},
   "outputs": [],
   "source": [
    "s1.endswith('lo, ')  # True"
   ]
  },
  {
   "cell_type": "markdown",
   "metadata": {},
   "source": [
    "* Разбиение строки\n",
    "\n",
    "  методы:\n",
    "\n",
    "  * split\n",
    "  * rsplit"
   ]
  },
  {
   "cell_type": "code",
   "execution_count": null,
   "metadata": {},
   "outputs": [],
   "source": [
    "lst = s3.split(' ')  # ['Hello,', 'world!']\n",
    "print(lst)"
   ]
  },
  {
   "cell_type": "markdown",
   "metadata": {},
   "source": [
    "* Объединение строк"
   ]
  },
  {
   "cell_type": "code",
   "execution_count": null,
   "metadata": {},
   "outputs": [],
   "source": [
    "'-'.join(lst)  # 'Hello,-world!'"
   ]
  },
  {
   "cell_type": "markdown",
   "metadata": {},
   "source": [
    "* Очистка символов по краям строки"
   ]
  },
  {
   "cell_type": "code",
   "execution_count": null,
   "metadata": {},
   "outputs": [],
   "source": [
    "s7 = '   example string //'\n",
    "print(s7)\n",
    "print(s7.strip())\n",
    "print(s7.strip(' /'))"
   ]
  },
  {
   "cell_type": "markdown",
   "metadata": {
    "slideshow": {
     "slide_type": "subslide"
    },
    "tags": []
   },
   "source": [
    "### Форматирование строки\n",
    "\n",
    "Позволяет добавлять в строку данных различных типов"
   ]
  },
  {
   "cell_type": "code",
   "execution_count": null,
   "metadata": {},
   "outputs": [],
   "source": [
    "'{} or {}'.format('One', 1)  # 'One or 1'"
   ]
  },
  {
   "cell_type": "markdown",
   "metadata": {},
   "source": [
    "#### Использование аргументов в произвольном порядке"
   ]
  },
  {
   "cell_type": "code",
   "execution_count": null,
   "metadata": {},
   "outputs": [],
   "source": [
    "'{0}, {1} {0}'.format('Бонд', 'Джеймс')  # 'Бонд, Джеймс Бонд'"
   ]
  },
  {
   "cell_type": "code",
   "execution_count": null,
   "metadata": {},
   "outputs": [],
   "source": [
    "'Имя: {name} Фамилия: {surname}'.format(name='Вася', surname='Васечкин')  # 'Имя: Вася Фамилия: Васечкин'"
   ]
  },
  {
   "cell_type": "markdown",
   "metadata": {},
   "source": [
    "#### Cпецификация и типизация"
   ]
  },
  {
   "cell_type": "code",
   "execution_count": null,
   "metadata": {},
   "outputs": [],
   "source": [
    "'Округление: {:.3f}'.format(2/3)  # 'Округление: 0.667'"
   ]
  },
  {
   "cell_type": "code",
   "execution_count": null,
   "metadata": {},
   "outputs": [],
   "source": [
    "'Выравнивание: {:05.2f}'.format(5/3)  # 'Выравнивание: 01.67'"
   ]
  },
  {
   "cell_type": "code",
   "execution_count": null,
   "metadata": {},
   "outputs": [],
   "source": [
    "'Число по коду: {num:d} {num:c}'.format(num=167)  # 'Число по коду: 167 §'"
   ]
  },
  {
   "cell_type": "markdown",
   "metadata": {},
   "source": [
    "#### f-строки"
   ]
  },
  {
   "cell_type": "code",
   "execution_count": null,
   "metadata": {},
   "outputs": [],
   "source": [
    "name = 'Василий'\n",
    "age = 35\n",
    "f'{name}, {age} лет; любимые числа: {[7, 42]}'"
   ]
  },
  {
   "cell_type": "markdown",
   "metadata": {
    "slideshow": {
     "slide_type": "slide"
    },
    "tags": []
   },
   "source": [
    "# Списки (list)\n",
    "\n",
    "* Создание списка"
   ]
  },
  {
   "cell_type": "code",
   "execution_count": null,
   "metadata": {},
   "outputs": [],
   "source": [
    "lst_st = list('Строка')\n",
    "lst_rng = list(range(10))\n",
    "lst_var = [1, 'a', 'abc', None, ['Other', 'list'], 3.14]\n",
    "\n",
    "print(lst_st)\n",
    "print(lst_rng)\n",
    "print(lst_var)"
   ]
  },
  {
   "cell_type": "markdown",
   "metadata": {},
   "source": [
    "* Индексирование\n",
    "> Применимо для list, tuple, string"
   ]
  },
  {
   "cell_type": "code",
   "execution_count": null,
   "metadata": {},
   "outputs": [],
   "source": [
    "print(lst_st[1])  # 'т'\n",
    "print(lst_st[-1])  # 'а'"
   ]
  },
  {
   "cell_type": "markdown",
   "metadata": {},
   "source": [
    "* Срезы (slice)\n",
    "> Применимо для list, tuple, string"
   ]
  },
  {
   "cell_type": "code",
   "execution_count": null,
   "metadata": {},
   "outputs": [],
   "source": [
    "print(lst_st)\n",
    "print(lst_st[1:4])  # ['т', 'р', 'о']\n",
    "print(lst_st[:3])  # ['С', 'т', 'р']\n",
    "print(lst_st[-3:])  # ['о', 'к', 'а']\n",
    "print(lst_st[::-1])  # ['а', 'к', 'о', 'р', 'т', 'С']"
   ]
  },
  {
   "cell_type": "code",
   "execution_count": null,
   "metadata": {},
   "outputs": [],
   "source": [
    "print(lst_rng)\n",
    "print(lst_rng[:6:2])  # [0, 2, 4]"
   ]
  },
  {
   "cell_type": "markdown",
   "metadata": {
    "slideshow": {
     "slide_type": "subslide"
    }
   },
   "source": [
    "* List comprehension"
   ]
  },
  {
   "cell_type": "code",
   "execution_count": null,
   "metadata": {},
   "outputs": [],
   "source": [
    "lst_sqr = [i ** 2 for i in range(6)]  # [0, 1, 4, 9, 16, 25]\n",
    "lst_sqr_even = [i ** 2 for i in range(5) if i % 2 == 0]  # [0, 4, 16]\n",
    "\n",
    "print(lst_sqr)\n",
    "print(lst_sqr_even)"
   ]
  },
  {
   "cell_type": "markdown",
   "metadata": {},
   "source": [
    "* Длина списка"
   ]
  },
  {
   "cell_type": "code",
   "execution_count": null,
   "metadata": {},
   "outputs": [],
   "source": [
    "len(lst_rng)  # 10"
   ]
  },
  {
   "cell_type": "markdown",
   "metadata": {},
   "source": [
    "* Наличие элемента в списке (и в любом контейнере)"
   ]
  },
  {
   "cell_type": "code",
   "execution_count": null,
   "metadata": {},
   "outputs": [],
   "source": [
    "2 in lst_rng  # True"
   ]
  },
  {
   "cell_type": "markdown",
   "metadata": {
    "jp-MarkdownHeadingCollapsed": true,
    "slideshow": {
     "slide_type": "subslide"
    },
    "tags": []
   },
   "source": [
    "### Методы списков\n",
    "\n",
    "##### методы списков, в отличие от строковых методов, изменяют сам список, а потому результат выполнения не нужно записывать в эту переменную\n",
    "* Добавление элемента\n",
    "```python\n",
    "lst_st.append('!')  # lst_st -> ['С', 'т', 'р', 'о', 'к', 'а', '!']\n",
    "```\n",
    "* Расширение списка\n",
    "```python\n",
    "lst_st.extend(['1', '2'])  # lst_st -> ['С', 'т', 'р', 'о', 'к', 'а', '1', '2']\n",
    "```\n",
    "* Удаление элемента (первый совпадающий)\n",
    "```python\n",
    "lst_st.remove('р')  # lst_st -> ['С', 'т', 'о', 'к', 'а']\n",
    "```\n",
    "* Вставка элемента\n",
    "```python\n",
    "lst_st.insert(4, 'ч')  # lst_st -> ['С', 'т', 'р', 'о', 'ч', 'к', 'а']\n",
    "```\n",
    "* Подсчет элементов\n",
    "```python\n",
    "lst_nums = [1, 2, 0, 1, 2, 1]\n",
    "lst_nums.count(1)  # 3\n",
    "```\n",
    "* Сортировка элементов\n",
    "```python\n",
    "lst_nums.sort()  # [0, 1, 1, 1, 2, 2]\n",
    "```"
   ]
  },
  {
   "cell_type": "markdown",
   "metadata": {
    "slideshow": {
     "slide_type": "slide"
    }
   },
   "source": [
    "# Кортежи (tuple)\n",
    "\n",
    "### Кортеж - неизменяемый список\n",
    "\n",
    "```python\n",
    "lst = [1, 2, 3, 4, 5, 6]  # Список\n",
    "tpl = (1, 2, 3, 4, 5, 6)  # Кортеж\n",
    "```\n",
    "\n",
    "Отличия от списков:\n",
    "* Защита от изменений\n",
    "* Меньший размер\n",
    "* Возможность использовать как ключи словаря\n",
    "```python\n",
    "dct = {1: 'a', (2, 3): 'b'} \n",
    "```"
   ]
  },
  {
   "cell_type": "markdown",
   "metadata": {
    "slideshow": {
     "slide_type": "subslide"
    }
   },
   "source": [
    "Операции с кортежами:\n",
    "* Создание\n",
    "```python\n",
    "tpl = (1, 2, 3, 4, 5, 6)\n",
    "tpl = tuple([1, 2, 3, 4, 5, 6])  # Преобразование из списка\n",
    "tpl = tuple(range(5))  # Преобразование из генератора\n",
    "tpl = tuple()  # Пустой кортеж\n",
    "tpl = (1, )  # Кортеж из одного элемета. Запятая обязательна\n",
    "```\n",
    "* Распаковка\n",
    "```python\n",
    "a, b = (1, 'c')  # a = 1; b = 'c'\n",
    "```\n",
    "* Смена местами значения двух переменных\n",
    "```python\n",
    "a, b = b, a\n",
    "```"
   ]
  },
  {
   "cell_type": "markdown",
   "metadata": {
    "slideshow": {
     "slide_type": "slide"
    }
   },
   "source": [
    "# Словари (dict)\n",
    "### Словарь - неупорядоченные коллекции произвольных объектов с доступом по ключу. Их иногда ещё называют ассоциативными массивами или хеш-таблицами\n",
    "\n",
    "Создание\n",
    "```python\n",
    "dct = {'a': 1, 'b': 2}\n",
    "dct = dict(a=1, b=2)\n",
    "dct = dict([('a', 1), ('b', 2)])\n",
    "dct_frk = dict.fromkeys(['a', 'b'], 1)  # {'a': 1, 'b': 1}\n",
    "\n",
    "# Dictionary comprehension\n",
    "dct_rng = {i: i ** 2 for i in range(5)}  # {0: 0, 1: 1, 2: 4, 3: 9, 4: 16}\n",
    "```\n",
    "Получение элемента\n",
    "```python\n",
    "dct['a']  # 1\n",
    "dct.get('a')  # 1\n",
    "```"
   ]
  },
  {
   "cell_type": "markdown",
   "metadata": {
    "slideshow": {
     "slide_type": "subslide"
    }
   },
   "source": [
    "### Методы словарей\n",
    "*  Получение пары (ключ, значение)\n",
    "```python\n",
    "dct.items()  # Итератор [('a', 1), ('b', 2)]\n",
    "```\n",
    "* Получение ключей\n",
    "```python\n",
    "dct.keys()  # Итератор ['a', 'b']\n",
    "```\n",
    "* Получение значение\n",
    "```python\n",
    "dct.values()  # Итератор [1, 2]\n",
    "```\n",
    "* Добавление нового словаря (обновляет славарь, возвращает None)\n",
    "```python\n",
    "dct.update(new_dct)\n",
    "```\n",
    "* Получение элемента и удаление его из словаря\n",
    "```python\n",
    "dct.pop('a')  # 1, dct -> {'b': 2}\n",
    "```"
   ]
  },
  {
   "cell_type": "markdown",
   "metadata": {
    "slideshow": {
     "slide_type": "slide"
    }
   },
   "source": [
    "# Множества (set)\n",
    "### Множество - \"контейнер\", содержащий неповторяющиеся элементы в случайном порядке\n",
    "Создание\n",
    "```python\n",
    "st = {1, 2, 3, 2, 1}  # {1, 2, 3}\n",
    "st = set([1, 2, 3, 2, 1])\n",
    "```\n",
    "### Методы\n",
    "* Добавление элемента\n",
    "```python\n",
    "st.add(4)  # st -> {1, 2, 3, 4}\n",
    "```\n",
    "* Добавление другого множества\n",
    "```python\n",
    "st.update({})  # st -> {1, 2, 3, 4}\n",
    "```\n",
    "* Определение, является ли подмножеством\n",
    "```python\n",
    "st.issubset({1, 2, 3, 4})  # True\n",
    "```\n",
    "* Объеднинение множеств\n",
    "```python\n",
    "st.union({0, 1, 2})  # {0, 1, 2, 3}\n",
    "```\n",
    "* Пересечение множеств\n",
    "```python\n",
    "st.intersection({0, 1, 2})  # {1, 2}\n",
    "```"
   ]
  },
  {
   "cell_type": "markdown",
   "metadata": {
    "slideshow": {
     "slide_type": "subslide"
    }
   },
   "source": [
    "#### Неизменяемое множество (frozenset)\n",
    "```python\n",
    "frozenset([1, 2, 3, 2, 1])\n",
    "```"
   ]
  },
  {
   "cell_type": "markdown",
   "metadata": {
    "slideshow": {
     "slide_type": "slide"
    }
   },
   "source": [
    "# Функции"
   ]
  },
  {
   "cell_type": "code",
   "execution_count": null,
   "metadata": {},
   "outputs": [],
   "source": [
    "def mult(x, y):\n",
    "    return x * y  # Возвращаемое значение\n",
    "\n",
    "\n",
    "c = mult(3, 5)  # 15\n",
    "print(c)"
   ]
  },
  {
   "cell_type": "markdown",
   "metadata": {},
   "source": [
    "#### Возврат нескольких значений"
   ]
  },
  {
   "cell_type": "code",
   "execution_count": null,
   "metadata": {},
   "outputs": [],
   "source": [
    "def add_mult(x, y):\n",
    "    return x + y, x * y  # Возвращаемое значение\n",
    "\n",
    "\n",
    "c, d = add_mult(3, 5)  # 8, 15\n",
    "print(c, d)"
   ]
  },
  {
   "cell_type": "markdown",
   "metadata": {},
   "source": [
    "#### Возврат функции"
   ]
  },
  {
   "cell_type": "code",
   "execution_count": null,
   "metadata": {},
   "outputs": [],
   "source": [
    "def main_func(n):\n",
    "    def sub_func(x):\n",
    "        return x ** n\n",
    "    return sub_func\n",
    "\n",
    "\n",
    "f = main_func(3)\n",
    "c = f(2)  # 8\n",
    "print(c)"
   ]
  },
  {
   "cell_type": "markdown",
   "metadata": {
    "slideshow": {
     "slide_type": "subslide"
    },
    "tags": []
   },
   "source": [
    "#### Аргументы функции"
   ]
  },
  {
   "cell_type": "code",
   "execution_count": null,
   "metadata": {},
   "outputs": [],
   "source": [
    "# Значения по умолчанию. y можно не указывать\n",
    "def func(x, y=2):\n",
    "    return x ** y\n",
    "\n",
    "\n",
    "# Вызов функции со значениями в произвольном порядке\n",
    "func(y=3, x=2)"
   ]
  },
  {
   "cell_type": "code",
   "execution_count": null,
   "metadata": {},
   "outputs": [],
   "source": [
    "# Произвольное число аргументов (передаётся как tuple)\n",
    "def func(*args):\n",
    "    print(args)\n",
    "    return sum(args)\n",
    "\n",
    "\n",
    "func(1, 2, 5, 10)  # 18"
   ]
  },
  {
   "cell_type": "code",
   "execution_count": null,
   "metadata": {},
   "outputs": [],
   "source": [
    "# Произвольное число именованных аргументов (передаётся как dict)\n",
    "def func(**kwargs):\n",
    "    return kwargs\n",
    "\n",
    "\n",
    "func(a=1, b=2)  # {'a': 1, 'b': 2}"
   ]
  },
  {
   "cell_type": "code",
   "execution_count": null,
   "metadata": {},
   "outputs": [],
   "source": [
    "# Смешанный набор аргументов\n",
    "def func(a1, a2, *args, name, **kwargs):\n",
    "    print(a1, a2)\n",
    "    print(args)\n",
    "    print(name)\n",
    "    print(kwargs)\n",
    "\n",
    "\n",
    "func(1, 2, 3, 4, 5, name='Имя', surname='Фамилия', age=42)"
   ]
  },
  {
   "cell_type": "code",
   "execution_count": null,
   "metadata": {},
   "outputs": [],
   "source": [
    "# Распаковка для передачи аргументов функции\n",
    "def vector_length(x, y):\n",
    "    return (x ** 2 + y ** 2) ** 0.5\n",
    "\n",
    "\n",
    "coord = [3, 4]\n",
    "\n",
    "vector_length(*coord)"
   ]
  },
  {
   "cell_type": "code",
   "execution_count": null,
   "metadata": {},
   "outputs": [],
   "source": [
    "def print_card(name, surname):\n",
    "    print(f'Имя: {name}, Фамилия: {surname}')\n",
    "\n",
    "\n",
    "user_data = {\n",
    "    'name': 'Василий',\n",
    "    'surname': 'Васильев',\n",
    "}\n",
    "\n",
    "print_card(**user_data)"
   ]
  },
  {
   "cell_type": "markdown",
   "metadata": {
    "slideshow": {
     "slide_type": "subslide"
    },
    "tags": []
   },
   "source": [
    "#### Анонимные функции (lambda)\n",
    "_Содержат лишь одно выражение, но и выполняются быстрее_"
   ]
  },
  {
   "cell_type": "code",
   "execution_count": null,
   "metadata": {},
   "outputs": [],
   "source": [
    "func = lambda x, y: x * y\n",
    "func(3, 5)  # 15"
   ]
  },
  {
   "cell_type": "markdown",
   "metadata": {},
   "source": [
    "> lambda функции обычно используются в качестве аргументов для других функций. \n",
    "  Не рекомендуется явно назначать эти выражения другим переменным. Вместо этого используйте явное определение функций через **def**"
   ]
  },
  {
   "cell_type": "markdown",
   "metadata": {
    "slideshow": {
     "slide_type": "slide"
    },
    "tags": []
   },
   "source": [
    "# Файлы\n",
    "\n",
    "Файл __example.txt__ имеет следующее содержание:  \n",
    "_Hello  \n",
    "world!_  \n",
    "Открытие файла для чтения\n",
    "```python\n",
    "f = open('example.txt')\n",
    "f.read()  # 'Hello\\nworld!\\n'\n",
    "```\n",
    "__После окончания работы с файлом его обязательно нужно закрыть__\n",
    "```python\n",
    "f.close()\n",
    "```\n",
    "Конструкция _with ... as ..._ сама происзводит открытие и закрытие файла\n",
    "```python\n",
    "with open('example.txt') as f:\n",
    "    f.read()\n",
    "```\n",
    "\n",
    "Чтение строки файла\n",
    "```python\n",
    "with open('example.txt') as f:\n",
    "    f.readline()  # 'Hello\\n'\n",
    "```"
   ]
  },
  {
   "cell_type": "code",
   "execution_count": null,
   "metadata": {},
   "outputs": [],
   "source": [
    "f = open('example.txt')\n",
    "f.read()  # 'Hello\\nworld!\\n'"
   ]
  },
  {
   "cell_type": "markdown",
   "metadata": {},
   "source": [
    "__После окончания работы с файлом его обязательно нужно закрыть__"
   ]
  },
  {
   "cell_type": "code",
   "execution_count": null,
   "metadata": {},
   "outputs": [],
   "source": [
    "f.close()"
   ]
  },
  {
   "cell_type": "markdown",
   "metadata": {},
   "source": [
    "Конструкция _with ... as ..._ сама происзводит открытие и закрытие файла"
   ]
  },
  {
   "cell_type": "code",
   "execution_count": null,
   "metadata": {},
   "outputs": [],
   "source": [
    "with open('example.txt') as f:\n",
    "    f.read()"
   ]
  },
  {
   "cell_type": "markdown",
   "metadata": {},
   "source": [
    "Чтение строки из файла"
   ]
  },
  {
   "cell_type": "code",
   "execution_count": null,
   "metadata": {},
   "outputs": [],
   "source": [
    "with open('example.txt') as f:\n",
    "    file_line = f.readline()  # 'Hello\\n'\n",
    "file_line"
   ]
  },
  {
   "cell_type": "markdown",
   "metadata": {
    "slideshow": {
     "slide_type": "subslide"
    }
   },
   "source": [
    "Режим открытия файла\n",
    "* Открытие файла для чтение 'r'\n",
    "* Открытие файла для записи 'w'\n",
    "* Открытие файла для добавления 'a'\n",
    "* Открытие файла в двоичном режиме 'b'"
   ]
  },
  {
   "cell_type": "code",
   "execution_count": null,
   "metadata": {},
   "outputs": [],
   "source": [
    "with open('out.txt', 'w') as f:\n",
    "    for s in ['It is\\n', 'output\\n']:\n",
    "        f.write(s)"
   ]
  },
  {
   "cell_type": "markdown",
   "metadata": {},
   "source": [
    "Файл __out.txt__ тепреь содержит:  \n",
    "_It is  \n",
    "output_  "
   ]
  },
  {
   "cell_type": "markdown",
   "metadata": {
    "slideshow": {
     "slide_type": "slide"
    },
    "tags": []
   },
   "source": [
    "# Исключения\n",
    "\n",
    "Конструкция _try ... except ..._ позволяет обрабатывать ошибки/исключения в процессе выполнения программы"
   ]
  },
  {
   "cell_type": "code",
   "execution_count": null,
   "metadata": {},
   "outputs": [],
   "source": [
    "s = 1 + '2'"
   ]
  },
  {
   "cell_type": "code",
   "execution_count": null,
   "metadata": {},
   "outputs": [],
   "source": [
    "try:\n",
    "    s = 1 + '2'\n",
    "except TypeError:\n",
    "    s = 1\n",
    "print(s)"
   ]
  },
  {
   "cell_type": "markdown",
   "metadata": {
    "slideshow": {
     "slide_type": "subslide"
    }
   },
   "source": [
    "Есть возможность обрабатывать различные исключения"
   ]
  },
  {
   "cell_type": "code",
   "execution_count": null,
   "metadata": {},
   "outputs": [],
   "source": [
    "import math\n",
    "arr = [3, 2.3, '3', 1, '5', 6]\n",
    "s, k, n = 0, 0, 0\n",
    "for a in arr:\n",
    "    try:\n",
    "        s += a / math.floor(a/2)\n",
    "    except TypeError:\n",
    "        print(a, 'is not number')\n",
    "    except ZeroDivisionError:\n",
    "        print('Половина от', a, '- ноль')\n",
    "    except Exception:\n",
    "        print('Неопределённая ошибка с', a)\n",
    "    else:\n",
    "        k += 1\n",
    "    finally:\n",
    "        n += 1\n",
    "print('Половинная сумма для', k, 'элементов из', n, ':', s)"
   ]
  },
  {
   "cell_type": "markdown",
   "metadata": {
    "slideshow": {
     "slide_type": "slide"
    },
    "tags": []
   },
   "source": [
    "# Итераторы\n",
    "\n",
    "Итерируемые объекты в python:\n",
    "\n",
    "* dict\n",
    "* list\n",
    "* set\n",
    "* string\n",
    "* tuple\n",
    "* \"comprehension expressions\"\n",
    "\n",
    "### Примеры итерирования:"
   ]
  },
  {
   "cell_type": "code",
   "execution_count": null,
   "metadata": {},
   "outputs": [],
   "source": [
    "my_list = [1, 2, 3]\n",
    "\n",
    "for x in my_list:\n",
    "    print(x)"
   ]
  },
  {
   "cell_type": "code",
   "execution_count": null,
   "metadata": {},
   "outputs": [],
   "source": [
    "my_dict = {\n",
    "    'name': 'Василий',\n",
    "    'age': 42,\n",
    "}\n",
    "\n",
    "print('Ключи словаря')\n",
    "for dict_key in my_dict:  # аналогично итерированию по my_dict.keys()\n",
    "    print(dict_key)\n",
    "\n",
    "print()  #  Простой способ сделать дополнительный отступ.\n",
    "# Для большего количества отступов рекоммендуется использовать специальный символ \"\\n\"\n",
    "\n",
    "print('Значения словаря')\n",
    "for dict_value in my_dict.values():\n",
    "    print(dict_value)\n",
    "    \n",
    "print()\n",
    "print('Пары ключ-значение')\n",
    "for key, value in my_dict.items():\n",
    "    print(f'{key}: {value}')"
   ]
  },
  {
   "cell_type": "markdown",
   "metadata": {},
   "source": [
    "### Вспомогательные функции для итерирования\n",
    "\n",
    "* `range(start, stop, step)`, `range(stop)` - генерирует последовательность целых чисел от \n",
    "  start (default 0) до stop не включительно с шагом step (default 1).\n",
    "\n",
    "* `zip(iter1, iter2, ...)` - единовременное итерирование по нескольким итерируемым объектам.\n",
    "  На каждом шаге выдаёт tuple, содержащий по одному элементу из каждого итератора.\n",
    "\n",
    "* `enumerate(iter1, start=0)` - обёртка над другими итераторами, предназначенная для нумерации элементов итерируемого объекта.\n",
    "  Возвращает tuple, содержащий два элемента: индекс элемента и сам элемент."
   ]
  },
  {
   "cell_type": "code",
   "execution_count": null,
   "metadata": {},
   "outputs": [],
   "source": [
    "for i in range(10, 20, 5):\n",
    "    print(i)"
   ]
  },
  {
   "cell_type": "code",
   "execution_count": null,
   "metadata": {},
   "outputs": [],
   "source": [
    "for x, y in zip([1, 2, 3], 'abc'):\n",
    "    print(x, y)"
   ]
  },
  {
   "cell_type": "code",
   "execution_count": null,
   "metadata": {},
   "outputs": [],
   "source": [
    "for i, x in enumerate('qwerty', start=10):\n",
    "    print(i, x)"
   ]
  },
  {
   "cell_type": "markdown",
   "metadata": {
    "tags": []
   },
   "source": [
    "# Встроенные функции\n",
    "\n",
    "[Ссылка на документацию](https://docs.python.org/3/library/functions.html)\n",
    "\n",
    "| ..          | ..        | Built-in Functions | ..         | ..             |\n",
    "|-------------|-----------|--------------------|------------|----------------|\n",
    "| abs         | delattr   | hash               | memoryview | set            |\n",
    "| all         | dict      | help               | min        | setattr        |\n",
    "| any         | dir       | hex                | next       | slice          |\n",
    "| ascii       | divmod    | id                 | object     | sorted         |\n",
    "| bin         | enumerate | input              | oct        | staticmethod   |\n",
    "| bool        | eval      | int                | open       | str            |\n",
    "| breakpoint  | exec      | isinstance         | ord        | sum            |\n",
    "| bytearray   | filter    | issubclass         | pow        | super          |\n",
    "| bytes       | float     | iter               | print      | tuple          |\n",
    "| callable    | format    | len                | property   | type           |\n",
    "| chr         | frozenset | list               | range      | vars           |\n",
    "| classmethod | getattr   | locals             | repr       | zip            |\n",
    "| compile     | globals   | map                | reversed   | \\_\\_import\\_\\_ |\n",
    "| complex     | hasattr   | max                | round      | \\-             |"
   ]
  },
  {
   "cell_type": "code",
   "execution_count": null,
   "metadata": {},
   "outputs": [],
   "source": [
    "help(help)"
   ]
  },
  {
   "cell_type": "code",
   "execution_count": null,
   "metadata": {},
   "outputs": [],
   "source": [
    "help(zip)"
   ]
  },
  {
   "cell_type": "markdown",
   "metadata": {
    "slideshow": {
     "slide_type": "slide"
    },
    "tags": []
   },
   "source": [
    "# Задания\n",
    "1. Вводится строка. Определить является ли она палиндромом и вывести соответствующее сообщение.\n",
    "2. В строке, состоящей из слов, разделенных пробелом, найти самое длинное слово.\n",
    "3. Генерируется список случайных целых чисел. Определить, сколько в нем четных чисел, а сколько нечетных.\n",
    "4. Дан словарь, состоящий из пар слов. Каждое слово является синонимом к парному ему слову. Все слова в словаре различны. Заменить в строке все слова, входящие в словарь, как ключи, на их синонимы.\n",
    "5. Напишите функцию fib(n), которая по данному целому неотрицательному n возвращает n-e число Фибоначчи. В этой задаче нельзя использовать циклы — используйте рекурсию.\n",
    "6. Сосчитайте количество строк, слов и букв в файле. (слова разделены пробелом, _\\n_ не считается символом)"
   ]
  }
 ],
 "metadata": {
  "celltoolbar": "Slideshow",
  "kernelspec": {
   "display_name": "Python 3 (ipykernel)",
   "language": "python",
   "name": "python3"
  },
  "language_info": {
   "codemirror_mode": {
    "name": "ipython",
    "version": 3
   },
   "file_extension": ".py",
   "mimetype": "text/x-python",
   "name": "python",
   "nbconvert_exporter": "python",
   "pygments_lexer": "ipython3",
   "version": "3.7.4"
  }
 },
 "nbformat": 4,
 "nbformat_minor": 4
}
