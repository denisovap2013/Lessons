{
 "cells": [
  {
   "cell_type": "markdown",
   "metadata": {
    "slideshow": {
     "slide_type": "slide"
    }
   },
   "source": [
    "# Введение Машинное обучение"
   ]
  },
  {
   "cell_type": "markdown",
   "metadata": {
    "slideshow": {
     "slide_type": "slide"
    }
   },
   "source": [
    "# Что такое машинное обучение\n",
    "Машинное обучение (Machine Learning) — обширный подраздел искусственного интеллекта, \n",
    "изучающий методы построения алгоритмов, способных обучаться.   \n",
    "\n",
    "Различают два типа обучения: \n",
    "* Обучение по прецедентам, или индуктивное обучение (обучение без учителя), \n",
    "основано на выявлении общих закономерностей по частным эмпирическим данным.   \n",
    "* Дедуктивное обучение (обучение с учителем) предполагает формализацию знаний экспертов и их перенос в компьютер в виде базы знаний.  \n",
    "Дедуктивное обучение принято относить к области экспертных систем, поэтому термины машинное обучение и обучение по прецедентам можно считать синонимами.\n",
    "### Решаемые задачи:\n",
    "* Предсказание спроса\n",
    "* Распознавание изображений\n",
    "* Распознавание людей\n",
    "* Определение возраста\n",
    "* Детектирование объектов\n",
    "* Определение позы\n",
    "* Чат-боты\n",
    "* Переводчики"
   ]
  },
  {
   "cell_type": "markdown",
   "metadata": {
    "slideshow": {
     "slide_type": "subslide"
    }
   },
   "source": [
    "![alt text](https://banner2.kisspng.com/20180419/qzq/kisspng-object-detection-deep-learning-convolutional-neura-taobao-real-shot-5ad9392f2abcb5.7623907415241853911751.jpg \"Detection\")"
   ]
  },
  {
   "cell_type": "markdown",
   "metadata": {
    "slideshow": {
     "slide_type": "subslide"
    }
   },
   "source": [
    "![alt text](https://1.bp.blogspot.com/-1rNIXR8OGxk/WDfrkuzNbvI/AAAAAAAABew/SM1A4UqYwIAeL9wtVMjT0nFyGx4iorK2wCLcB/s640/image01.gif \"Translation\")\n"
   ]
  },
  {
   "cell_type": "markdown",
   "metadata": {
    "slideshow": {
     "slide_type": "slide"
    }
   },
   "source": [
    "# Работа с данными"
   ]
  },
  {
   "cell_type": "markdown",
   "metadata": {},
   "source": [
    "\n"
   ]
  },
  {
   "cell_type": "markdown",
   "metadata": {},
   "source": [
    "Большинство моделей для машинного обучения представляют собой математические модели с обучаемыми коэффициентами.  \n",
    "К примеру, с помощью Машина Опорных Векторов задаётся гиперплоскостями, которые разделяют заданные характеристики на 2 группы. Параметры этих плоскостей являются обучаемыми параметрами"
   ]
  },
  {
   "cell_type": "markdown",
   "metadata": {
    "slideshow": {
     "slide_type": "subslide"
    }
   },
   "source": [
    "\n",
    "![alt text](http://www.machinelearning.ru/wiki/images/4/47/Pic_l_1.jpg \"SVM\")"
   ]
  },
  {
   "cell_type": "markdown",
   "metadata": {
    "slideshow": {
     "slide_type": "slide"
    }
   },
   "source": [
    "# Основные задачи машинного обучения"
   ]
  },
  {
   "cell_type": "markdown",
   "metadata": {},
   "source": [
    "__Задача классификации__ — задача, в которой имеется множество объектов (ситуаций), разделённых некоторым образом на классы.\n",
    "\n",
    "Примеры задач классификации:\n",
    "* Задачи медицинской диагностики\n",
    "* Предсказание месторождений полезных ископаемых\n",
    "* Предсказание оттока клиентов\n",
    "* Оптическое распознавание символов\n",
    "* Обнаружение спама\n",
    "* Предсказание возраста\n",
    "\n"
   ]
  },
  {
   "cell_type": "markdown",
   "metadata": {
    "slideshow": {
     "slide_type": "subslide"
    }
   },
   "source": [
    "__Задача регрессии__ - задача, которая позволяет определить по известным характеристикам объекта значение некоторого его параметра. В отличие от задачи классификации значением параметра является не конечное множество классов, а множество действительных чисел.\n",
    "\n",
    "Примеры задач регрессии:\n",
    "* Восстановление зависимости переменных\n",
    "* Предсказание добычи\n",
    "* Предсказание возраста"
   ]
  },
  {
   "cell_type": "markdown",
   "metadata": {
    "slideshow": {
     "slide_type": "subslide"
    }
   },
   "source": [
    "__Задача кластеризации__ - задача, которая заключается в поиске независимых групп (кластеров) и их характеристик во всем множестве анализируемых данных. Решение этой задачи помогает лучше понять данные. Кроме того, группировка однородных объектов позволяет сократить их число, а следовательно, и облегчить анализ.\n",
    "\n",
    "Примеры задач кластеризации:\n",
    "* Разбиение клиентов на целевые группы\n",
    "* Выделение групп людей на основе графа связей в социальных сетях\n",
    "* Повышение релевантности ответов на поисковые запросы путем группировки веб-сайтов по смысловым значениям поискового запроса\n",
    "* Кластеризация используется в сегментации изображений для определения границ и распознавания объектов"
   ]
  },
  {
   "cell_type": "markdown",
   "metadata": {
    "slideshow": {
     "slide_type": "slide"
    }
   },
   "source": [
    "# Scikit-learn"
   ]
  },
  {
   "cell_type": "markdown",
   "metadata": {
    "slideshow": {
     "slide_type": "-"
    }
   },
   "source": [
    "Для работы с Машинным обучением в Python используется библиотека Scikit-learn.  \n",
    "\n",
    "__Библиотека Scikit-learn__ — самый распространенный выбор для решения задач классического машинного обучения. Она предоставляет широкий выбор алгоритмов обучения с учителем и без учителя. Одно из основных преимуществ библиотеки состоит в том, что она работает на основе нескольких распространенных математических библиотек, и легко интегрирует их друг с другом. Еще одним преимуществом является широкое сообщество и подробная документация. \n"
   ]
  },
  {
   "cell_type": "markdown",
   "metadata": {
    "slideshow": {
     "slide_type": "subslide"
    }
   },
   "source": [
    "Библиотека реализует следующие основные методы:\n",
    "\n",
    "* __Линейные__: модели, задача которых построить разделяющую (для классификации) или аппроксимирующую (для регрессии) гиперплоскость.\n",
    "* __Деревья решений__: обучение моделей, базирующихся на множестве условий, оптимально выбранных для решения задачи.\n",
    "* __Ансамблевые методы__: методы, основанные на деревьях решений, которые комбинируют мощь множества деревьев, и таким образом повышают их качество работы, а также позволяют производить отбор признаков (бустинг, бэггинг, случайный лес, мажоритарное голосование).\n",
    "* __Нейронные сети__: комплексный нелинейный метод для задач регрессии и классификации.\n",
    "* __SVM__: нелинейный метод, который обучается определять границы принятия решений.\n",
    "* __Наивный Байес__: прямое вероятностное моделирование для задач классификации.\n",
    "* __PCA__: линейный метод понижения размерности и отбора признаков\n",
    "* __t-SNE__: нелинейный метод понижения размерности.\n",
    "* __K-средних__: самый распространенный метод для кластеризации, требущий на вход число кластеров, по которым должны быть распределены данные."
   ]
  },
  {
   "cell_type": "markdown",
   "metadata": {
    "slideshow": {
     "slide_type": "slide"
    }
   },
   "source": [
    "# Работа с признаками"
   ]
  },
  {
   "cell_type": "markdown",
   "metadata": {},
   "source": [
    "Работа с признаками делится на 3 этапа:\n",
    "* Извлечение признаков – превращение данных, специфических для предметной области, в понятные для модели векторы\n",
    "* Преобразования признаков – трансформация данных для повышения точности алгоритма\n",
    "* Выбор признаков – отсечение ненужных признаков"
   ]
  },
  {
   "cell_type": "markdown",
   "metadata": {
    "slideshow": {
     "slide_type": "slide"
    }
   },
   "source": [
    "# Извлечение признаков (Feature Extraction)"
   ]
  },
  {
   "cell_type": "markdown",
   "metadata": {
    "slideshow": {
     "slide_type": "slide"
    }
   },
   "source": [
    "# Тексты"
   ]
  },
  {
   "cell_type": "code",
   "execution_count": null,
   "metadata": {},
   "outputs": [],
   "source": [
    "# N-граммы (комбинации из N последовательных терминов)\n",
    "from sklearn.feature_extraction.text import CountVectorizer\n",
    "\n",
    "print(\"Модель для N-грамм от 1 до 1 слова\")\n",
    "vect = CountVectorizer(ngram_range=(1, 1)) \n",
    "res = vect.fit_transform(['он не делает работу', 'не он делает работу']).toarray()\n",
    "print(res)\n",
    "print(vect.vocabulary_)\n",
    "\n",
    "print()\n",
    "print(\"Модель для N-грамм от 1 до 2 слов\")\n",
    "vect = CountVectorizer(ngram_range=(1, 2)) \n",
    "res = vect.fit_transform(['он не делает работу', 'не он делает работу']).toarray()\n",
    "print(res)\n",
    "print(vect.vocabulary_)"
   ]
  },
  {
   "cell_type": "markdown",
   "metadata": {
    "slideshow": {
     "slide_type": "subslide"
    }
   },
   "source": [
    "__TF-IDF__ — статистическая мера, используемая для оценки важности слова в контексте документа, являющегося частью коллекции документов или корпуса. Вес некоторого слова пропорционален частоте употребления этого слова в документе и обратно пропорционален частоте употребления слова во всех документах коллекции.\n",
    "\n",
    "![alt text](https://wikimedia.org/api/rest_v1/media/math/render/svg/8ef207eb03f6e9b6f71e73739f45b5179b4f17cc \"tf\")\n",
    "![alt text](https://wikimedia.org/api/rest_v1/media/math/render/svg/b88834044365dea6aedba224eabe7147d4d328ef \"idf\")\n",
    "![alt text](https://wikimedia.org/api/rest_v1/media/math/render/svg/fa3cf0b54c09151473641f8364c2da3480cc98f1 \"tfidf\")"
   ]
  },
  {
   "cell_type": "markdown",
   "metadata": {
    "slideshow": {
     "slide_type": "subslide"
    }
   },
   "source": [
    "### Word2Vec\n",
    "![alt text](https://miro.medium.com/max/1014/1*dm9dudL37B6JG8saeR3zIw.png \"W2V\")"
   ]
  },
  {
   "cell_type": "markdown",
   "metadata": {
    "slideshow": {
     "slide_type": "slide"
    }
   },
   "source": [
    "# Изображения"
   ]
  },
  {
   "cell_type": "code",
   "execution_count": null,
   "metadata": {},
   "outputs": [],
   "source": [
    "import matplotlib.pyplot as plt\n",
    "import numpy as np\n",
    "%matplotlib inline"
   ]
  },
  {
   "cell_type": "code",
   "execution_count": null,
   "metadata": {},
   "outputs": [],
   "source": [
    "image = plt.imread('data/eye.jpg')\n",
    "print(image.shape)\n",
    "print(image[:2, :3])\n",
    "plt.imshow(image)\n",
    "plt.show()"
   ]
  },
  {
   "cell_type": "markdown",
   "metadata": {},
   "source": [
    "# Время"
   ]
  },
  {
   "cell_type": "code",
   "execution_count": null,
   "metadata": {},
   "outputs": [],
   "source": [
    "import numpy as np\n",
    "import pandas as pd\n",
    "\n",
    "# Устанавливаем точность для отображения вещественных чисел numpy массивов\n",
    "np.set_printoptions(precision=3)\n",
    "\n",
    "df = pd.read_csv('data/wells_info.csv')\n",
    "df['CompletionDate'] = pd.to_datetime(df['CompletionDate'])\n",
    "df.head()"
   ]
  },
  {
   "cell_type": "code",
   "execution_count": null,
   "metadata": {},
   "outputs": [],
   "source": [
    "# Получение дня недели\n",
    "df['CompletionDate'].dt.dayofweek[:4]"
   ]
  },
  {
   "cell_type": "code",
   "execution_count": null,
   "metadata": {
    "slideshow": {
     "slide_type": "subslide"
    }
   },
   "outputs": [],
   "source": [
    "# Проекция на окружность с последующим использованием двух координат\n",
    "def make_harmonic_features(value, period=24):\n",
    "    value *= 2 * np.pi / period\n",
    "    return np.cos(value), np.sin(value)\n",
    "\n",
    "hours = np.random.randint(0, 24, size=(10)).astype(float)\n",
    "print(hours)\n",
    "cos_, sin_ = make_harmonic_features(hours)\n",
    "print(cos_)\n",
    "print(sin_)"
   ]
  },
  {
   "cell_type": "markdown",
   "metadata": {
    "slideshow": {
     "slide_type": "slide"
    }
   },
   "source": [
    "# Категории"
   ]
  },
  {
   "cell_type": "code",
   "execution_count": null,
   "metadata": {},
   "outputs": [],
   "source": [
    "df['formation'][8:15]"
   ]
  },
  {
   "cell_type": "code",
   "execution_count": null,
   "metadata": {},
   "outputs": [],
   "source": [
    "pd.get_dummies(df['formation'])[8:15]"
   ]
  },
  {
   "cell_type": "markdown",
   "metadata": {
    "slideshow": {
     "slide_type": "slide"
    }
   },
   "source": [
    "# Преобразования признаков (Feature transformations)"
   ]
  },
  {
   "cell_type": "markdown",
   "metadata": {
    "slideshow": {
     "slide_type": "slide"
    }
   },
   "source": [
    "# Нормализация и изменение распределения"
   ]
  },
  {
   "cell_type": "code",
   "execution_count": null,
   "metadata": {},
   "outputs": [],
   "source": [
    "df_num = df[['LatWGS84', 'LonWGS84', 'BottomHoleLatitude',\n",
    "       'BottomHoleLongitude', 'LATERAL_LENGTH_BLEND', 'PROP_PER_FOOT',\n",
    "       'WATER_PER_FOOT']]\n",
    "df_num.head()"
   ]
  },
  {
   "cell_type": "code",
   "execution_count": null,
   "metadata": {
    "slideshow": {
     "slide_type": "subslide"
    }
   },
   "outputs": [],
   "source": [
    "# Масштабирование\n",
    "from sklearn.preprocessing import MinMaxScaler, StandardScaler\n",
    "\n",
    "scaler = StandardScaler()  # (x - x.mean()) / x.std()\n",
    "df_scaled = scaler.fit_transform(df_num)\n",
    "print(df_scaled[:4])\n",
    "\n",
    "scaler = MinMaxScaler()  # (x - x.min()) / (x.max() - x.min())\n",
    "df_scaled = scaler.fit_transform(df_num)\n",
    "print(df_scaled[:4])\n",
    "print()"
   ]
  },
  {
   "cell_type": "code",
   "execution_count": null,
   "metadata": {
    "slideshow": {
     "slide_type": "subslide"
    }
   },
   "outputs": [],
   "source": [
    "# Изменение распределения\n",
    "from scipy.stats import lognorm\n",
    "\n",
    "# Содаем случайные данные с логнормальным распределением\n",
    "data = lognorm(s=1).rvs(1000)\n",
    "plt.hist(data, bins=100)\n",
    "plt.show()"
   ]
  },
  {
   "cell_type": "code",
   "execution_count": null,
   "metadata": {},
   "outputs": [],
   "source": [
    "# С помощью логарифмирования приводим к нормальному распределению\n",
    "plt.hist(np.log(data), bins=100)\n",
    "plt.show()"
   ]
  },
  {
   "cell_type": "markdown",
   "metadata": {
    "slideshow": {
     "slide_type": "slide"
    }
   },
   "source": [
    "# Генерация новых признаков"
   ]
  },
  {
   "cell_type": "code",
   "execution_count": null,
   "metadata": {},
   "outputs": [],
   "source": [
    "# Проверка, является ли день завершения выходным\n",
    "is_weekend = df['CompletionDate'].dt.dayofweek.isin([5, 6]).astype(int)\n",
    "\n",
    "# Оставляем лишь те координаты, когда день завершения является выходным\n",
    "df_coord = (df[['LatWGS84', 'LonWGS84']].T * is_weekend).T\n",
    "df_coord.head()"
   ]
  },
  {
   "cell_type": "markdown",
   "metadata": {
    "slideshow": {
     "slide_type": "slide"
    }
   },
   "source": [
    "# Заполнение пропусков"
   ]
  },
  {
   "cell_type": "code",
   "execution_count": null,
   "metadata": {},
   "outputs": [],
   "source": [
    "df_na = pd.read_csv('data/wells_info_na.csv')\n",
    "df_na"
   ]
  },
  {
   "cell_type": "code",
   "execution_count": null,
   "metadata": {
    "slideshow": {
     "slide_type": "subslide"
    }
   },
   "outputs": [],
   "source": [
    "df_na.fillna(df.median())"
   ]
  },
  {
   "cell_type": "markdown",
   "metadata": {
    "slideshow": {
     "slide_type": "slide"
    }
   },
   "source": [
    "# Выбор признаков (Feature selection)"
   ]
  },
  {
   "cell_type": "code",
   "execution_count": null,
   "metadata": {},
   "outputs": [],
   "source": [
    "df.corr()"
   ]
  },
  {
   "cell_type": "code",
   "execution_count": null,
   "metadata": {},
   "outputs": [],
   "source": [
    "# Удаление совпадающих признаков\n",
    "df_res = df.drop(['BottomHoleLatitude', 'BottomHoleLatitude'], axis=1)\n",
    "\n",
    "# Удаление идентификаторов\n",
    "df_res = df_res.drop('API', axis=1)\n",
    "\n",
    "# Удаление признаков по экспертному мнению\n",
    "df_res = df_res.drop(['SpudDate', 'PermitDate', 'operatorNameIHS'], axis=1)"
   ]
  },
  {
   "cell_type": "markdown",
   "metadata": {
    "slideshow": {
     "slide_type": "subslide"
    }
   },
   "source": [
    "### Отбор с использованием моделей\n",
    "Некоторые модели (к примеру Random Forest) после обучения имеют возможность вывода важности признаков, основываясь на которую можно удалить наименее полезные.\n",
    "\n",
    "![image.png](https://i.stack.imgur.com/uwWJS.png)"
   ]
  },
  {
   "cell_type": "markdown",
   "metadata": {
    "slideshow": {
     "slide_type": "subslide"
    }
   },
   "source": [
    "### Перебор\n",
    "\n",
    "Обучение модели на разных подмножествах признаков и сравнение их результатов"
   ]
  },
  {
   "cell_type": "markdown",
   "metadata": {
    "slideshow": {
     "slide_type": "slide"
    }
   },
   "source": [
    "# Разбиение данных"
   ]
  },
  {
   "cell_type": "markdown",
   "metadata": {},
   "source": [
    "Данные при обучении разделяются на 3 части: тренировочная(train), валидационная(validation) и часть для тестирования(test)\n",
    " \n",
    "* train — часть набора данных на основании которого будет строиться модель\n",
    "* validation — часть набора данных для подбора параметров модели (опционально)\n",
    "* test — часть набора данных для проверки модели"
   ]
  },
  {
   "cell_type": "code",
   "execution_count": null,
   "metadata": {},
   "outputs": [],
   "source": [
    "df_main = pd.read_csv('data/wells_info_with_prod.csv')\n",
    "df_main.head()"
   ]
  },
  {
   "cell_type": "code",
   "execution_count": null,
   "metadata": {
    "slideshow": {
     "slide_type": "subslide"
    }
   },
   "outputs": [],
   "source": [
    "X = df_main.drop(['Prod1Year', 'ProdAll'], axis=1)\n",
    "y = df_main['ProdAll']"
   ]
  },
  {
   "cell_type": "code",
   "execution_count": null,
   "metadata": {},
   "outputs": [],
   "source": [
    "from sklearn.model_selection import train_test_split\n",
    "\n",
    "X_train, X_test, y_train, y_test = train_test_split(X, y, test_size=0.2, random_state=1)\n",
    "X_train, X_val, y_train, y_val = train_test_split(X_train, y_train, test_size=0.2, random_state=1)\n",
    "print(X_train.shape, X_val.shape, X_test.shape)\n",
    "print(y_train.shape, y_val.shape, y_test.shape)"
   ]
  },
  {
   "cell_type": "markdown",
   "metadata": {
    "slideshow": {
     "slide_type": "slide"
    }
   },
   "source": [
    "# Метрики для сравнения"
   ]
  },
  {
   "cell_type": "markdown",
   "metadata": {},
   "source": [
    "Для задачи классификации:\n",
    "* Доля правильных ответов алгоритма (accuracy)\n",
    "* Точность (precision)\n",
    "* Полнота (recall)\n",
    "\n",
    "![image.png](https://miro.medium.com/max/1520/1*OhEnS-T54Cz0YSTl_c3Dwg.jpeg)\n",
    "\n",
    "$$\n",
    "accuracy = {TP + TN \\over TP + TN + FP + FN}\n",
    "$$\n",
    "\n",
    "$$\n",
    "precision = {TP \\over TP + FP}\n",
    "$$\n",
    "\n",
    "$$\n",
    "recall = {TP \\over TP + FN}\n",
    "$$ "
   ]
  },
  {
   "cell_type": "markdown",
   "metadata": {
    "slideshow": {
     "slide_type": "subslide"
    }
   },
   "source": [
    "Для задачи регрессии:\n",
    "\n",
    "* Mean Absolute Error\n",
    "$$\n",
    "MAE = {\\sum_{n}|true_i-predict_i| \\over n}\n",
    "$$\n",
    "* Mean Squared Error\n",
    "$$\n",
    "MAE = {\\sum_{n}(true_i-predict_i)^2 \\over n}\n",
    "$$"
   ]
  },
  {
   "cell_type": "markdown",
   "metadata": {
    "slideshow": {
     "slide_type": "slide"
    }
   },
   "source": [
    "# KFold разбиение"
   ]
  },
  {
   "cell_type": "code",
   "execution_count": null,
   "metadata": {},
   "outputs": [],
   "source": [
    "from sklearn.model_selection import KFold\n",
    "\n",
    "kf = KFold(n_splits=4)\n",
    "\n",
    "for train, test in kf.split(X):\n",
    "    print(train, test)\n",
    "    X_train, X_test, y_train, y_test = X.iloc[train], X.iloc[test], y.iloc[train], y.iloc[test]\n",
    "    # Обучение и проверка модели\n",
    "    # ..."
   ]
  },
  {
   "cell_type": "markdown",
   "metadata": {
    "slideshow": {
     "slide_type": "subslide"
    }
   },
   "source": [
    "# Кросс валидация"
   ]
  },
  {
   "cell_type": "code",
   "execution_count": null,
   "metadata": {},
   "outputs": [],
   "source": [
    "from sklearn.model_selection import cross_val_score\n",
    "from sklearn.linear_model import LinearRegression\n",
    "\n",
    "kf = KFold(n_splits=3)\n",
    "results = cross_val_score(LinearRegression(), X.select_dtypes(exclude=object), y, cv=kf)\n",
    "results"
   ]
  },
  {
   "cell_type": "markdown",
   "metadata": {
    "slideshow": {
     "slide_type": "slide"
    }
   },
   "source": [
    "# Задачи\n",
    "\n",
    "1. Проведите извлечение признаков из *wells_info_with_prod.csv* (хоть один из столбцов с датой и категориальным признаком должен остаться). Целевой переменной будет **Prod1Year**\n",
    "2. Разбейте данные на train и test\n",
    "3. Отмасштабируйте train (в том числе целевую переменную)\n",
    "3. Используя модель масштабирования train отмасштабируйте test (использовать метод transform у той же модели масштабирования)"
   ]
  }
 ],
 "metadata": {
  "celltoolbar": "Slideshow",
  "kernelspec": {
   "display_name": "Python 3",
   "language": "python",
   "name": "python3"
  },
  "language_info": {
   "codemirror_mode": {
    "name": "ipython",
    "version": 3
   },
   "file_extension": ".py",
   "mimetype": "text/x-python",
   "name": "python",
   "nbconvert_exporter": "python",
   "pygments_lexer": "ipython3",
   "version": "3.6.10"
  }
 },
 "nbformat": 4,
 "nbformat_minor": 4
}
